{
  "metadata": {
    "kernelspec": {
      "language": "python",
      "display_name": "Python 3",
      "name": "python3"
    },
    "language_info": {
      "pygments_lexer": "ipython3",
      "nbconvert_exporter": "python",
      "version": "3.6.4",
      "file_extension": ".py",
      "codemirror_mode": {
        "name": "ipython",
        "version": 3
      },
      "name": "python",
      "mimetype": "text/x-python"
    },
    "colab": {
      "name": "22ds3000023-notebook-t22023",
      "provenance": [],
      "include_colab_link": true
    }
  },
  "nbformat_minor": 0,
  "nbformat": 4,
  "cells": [
    {
      "cell_type": "markdown",
      "metadata": {
        "id": "view-in-github",
        "colab_type": "text"
      },
      "source": [
        "<a href=\"https://colab.research.google.com/github/avnish-shivpure/Sentiment-Prediction-project/blob/main/Sentiment-Prediction-model.ipynb\" target=\"_parent\"><img src=\"https://colab.research.google.com/assets/colab-badge.svg\" alt=\"Open In Colab\"/></a>"
      ]
    },
    {
      "source": [
        "\n",
        "# IMPORTANT: RUN THIS CELL IN ORDER TO IMPORT YOUR KAGGLE DATA SOURCES\n",
        "# TO THE CORRECT LOCATION (/kaggle/input) IN YOUR NOTEBOOK,\n",
        "# THEN FEEL FREE TO DELETE THIS CELL.\n",
        "# NOTE: THIS NOTEBOOK ENVIRONMENT DIFFERS FROM KAGGLE'S PYTHON\n",
        "# ENVIRONMENT SO THERE MAY BE MISSING LIBRARIES USED BY YOUR\n",
        "# NOTEBOOK.\n",
        "\n",
        "import os\n",
        "import sys\n",
        "from tempfile import NamedTemporaryFile\n",
        "from urllib.request import urlopen\n",
        "from urllib.parse import unquote, urlparse\n",
        "from urllib.error import HTTPError\n",
        "from zipfile import ZipFile\n",
        "import tarfile\n",
        "import shutil\n",
        "\n",
        "CHUNK_SIZE = 40960\n",
        "DATA_SOURCE_MAPPING = 'sentiment-prediction-on-movie-reviews:https%3A%2F%2Fstorage.googleapis.com%2Fkaggle-competitions-data%2Fkaggle-v2%2F53569%2F5834979%2Fbundle%2Farchive.zip%3FX-Goog-Algorithm%3DGOOG4-RSA-SHA256%26X-Goog-Credential%3Dgcp-kaggle-com%2540kaggle-161607.iam.gserviceaccount.com%252F20240418%252Fauto%252Fstorage%252Fgoog4_request%26X-Goog-Date%3D20240418T125628Z%26X-Goog-Expires%3D259200%26X-Goog-SignedHeaders%3Dhost%26X-Goog-Signature%3D4ef2d82f1e156e8fe8e1ea26b30c5a3d355229734f9ccc5c7e823c25fbd88de1839f31ec25f911ef75db1bef51f50ce7e8bc1f1d61771dce23cb6c0128745cab56a41b2285de2da3a33c5b822123428e23a2e148537251ef3b3bc36f64bfa0bc6af7bcf297acefb2e57d2e85dd2a26803dfaa1e5c6c239a958b2bc6df229588aa91a99233e8d2c9f62b5fbac5a9082f6e0f8e179d0017a60bb89abc16bde7ec5e600591766d39e90c12f5b3d25477b18d3b7399c10b15de9ffafa806ea7cdd198ac9e6b80049e00d9c44a710f21665cd3ec971f11924f4265e75eacb2d4900d185f5bb61b228ba03e9d9d75e3abd678db1fddcbb83d74c98a765092f7a39f959'\n",
        "\n",
        "KAGGLE_INPUT_PATH='/kaggle/input'\n",
        "KAGGLE_WORKING_PATH='/kaggle/working'\n",
        "KAGGLE_SYMLINK='kaggle'\n",
        "\n",
        "!umount /kaggle/input/ 2> /dev/null\n",
        "shutil.rmtree('/kaggle/input', ignore_errors=True)\n",
        "os.makedirs(KAGGLE_INPUT_PATH, 0o777, exist_ok=True)\n",
        "os.makedirs(KAGGLE_WORKING_PATH, 0o777, exist_ok=True)\n",
        "\n",
        "try:\n",
        "  os.symlink(KAGGLE_INPUT_PATH, os.path.join(\"..\", 'input'), target_is_directory=True)\n",
        "except FileExistsError:\n",
        "  pass\n",
        "try:\n",
        "  os.symlink(KAGGLE_WORKING_PATH, os.path.join(\"..\", 'working'), target_is_directory=True)\n",
        "except FileExistsError:\n",
        "  pass\n",
        "\n",
        "for data_source_mapping in DATA_SOURCE_MAPPING.split(','):\n",
        "    directory, download_url_encoded = data_source_mapping.split(':')\n",
        "    download_url = unquote(download_url_encoded)\n",
        "    filename = urlparse(download_url).path\n",
        "    destination_path = os.path.join(KAGGLE_INPUT_PATH, directory)\n",
        "    try:\n",
        "        with urlopen(download_url) as fileres, NamedTemporaryFile() as tfile:\n",
        "            total_length = fileres.headers['content-length']\n",
        "            print(f'Downloading {directory}, {total_length} bytes compressed')\n",
        "            dl = 0\n",
        "            data = fileres.read(CHUNK_SIZE)\n",
        "            while len(data) > 0:\n",
        "                dl += len(data)\n",
        "                tfile.write(data)\n",
        "                done = int(50 * dl / int(total_length))\n",
        "                sys.stdout.write(f\"\\r[{'=' * done}{' ' * (50-done)}] {dl} bytes downloaded\")\n",
        "                sys.stdout.flush()\n",
        "                data = fileres.read(CHUNK_SIZE)\n",
        "            if filename.endswith('.zip'):\n",
        "              with ZipFile(tfile) as zfile:\n",
        "                zfile.extractall(destination_path)\n",
        "            else:\n",
        "              with tarfile.open(tfile.name) as tarfile:\n",
        "                tarfile.extractall(destination_path)\n",
        "            print(f'\\nDownloaded and uncompressed: {directory}')\n",
        "    except HTTPError as e:\n",
        "        print(f'Failed to load (likely expired) {download_url} to path {destination_path}')\n",
        "        continue\n",
        "    except OSError as e:\n",
        "        print(f'Failed to load {download_url} to path {destination_path}')\n",
        "        continue\n",
        "\n",
        "print('Data source import complete.')\n"
      ],
      "metadata": {
        "id": "EsRBfujJR7iY",
        "outputId": "4aa88865-c5ab-4353-c8a2-7cf97a83b57e",
        "colab": {
          "base_uri": "https://localhost:8080/"
        }
      },
      "cell_type": "code",
      "outputs": [
        {
          "output_type": "stream",
          "name": "stdout",
          "text": [
            "Downloading sentiment-prediction-on-movie-reviews, 21802216 bytes compressed\n",
            "[==================================================] 21802216 bytes downloaded\n",
            "Downloaded and uncompressed: sentiment-prediction-on-movie-reviews\n",
            "Data source import complete.\n"
          ]
        }
      ],
      "execution_count": 4
    },
    {
      "cell_type": "code",
      "source": [
        "# This Python 3 environment comes with many helpful analytics libraries installed\n",
        "# It is defined by the kaggle/python Docker image: https://github.com/kaggle/docker-python\n",
        "# For example, here's several helpful packages to load\n",
        "\n",
        "import numpy as np # linear algebra\n",
        "import pandas as pd # data processing, CSV file I/O (e.g. pd.read_csv)\n",
        "\n",
        "# Input data files are available in the read-only \"../input/\" directory\n",
        "# For example, running this (by clicking run or pressing Shift+Enter) will list all files under the input directory\n",
        "\n",
        "import os\n",
        "for dirname, _, filenames in os.walk('/kaggle/input'):\n",
        "    for filename in filenames:\n",
        "        print(os.path.join(dirname, filename))\n",
        "\n",
        "# You can write up to 20GB to the current directory (/kaggle/working/) that gets preserved as output when you create a version using \"Save & Run All\"\n",
        "# You can also write temporary files to /kaggle/temp/, but they won't be saved outside of the current session"
      ],
      "metadata": {
        "_uuid": "8f2839f25d086af736a60e9eeb907d3b93b6e0e5",
        "_cell_guid": "b1076dfc-b9ad-4769-8c92-a6c4dae69d19",
        "execution": {
          "iopub.status.busy": "2023-08-12T07:33:17.923518Z",
          "iopub.execute_input": "2023-08-12T07:33:17.924467Z",
          "iopub.status.idle": "2023-08-12T07:33:17.968237Z",
          "shell.execute_reply.started": "2023-08-12T07:33:17.924405Z",
          "shell.execute_reply": "2023-08-12T07:33:17.96695Z"
        },
        "trusted": true,
        "id": "3QoTt8WiR7ia",
        "outputId": "70bd2ada-f6fe-4b0f-8737-e705298f1148",
        "colab": {
          "base_uri": "https://localhost:8080/"
        }
      },
      "execution_count": 5,
      "outputs": [
        {
          "output_type": "stream",
          "name": "stdout",
          "text": [
            "/kaggle/input/sentiment-prediction-on-movie-reviews/movies.csv\n",
            "/kaggle/input/sentiment-prediction-on-movie-reviews/sample.csv\n",
            "/kaggle/input/sentiment-prediction-on-movie-reviews/test.csv\n",
            "/kaggle/input/sentiment-prediction-on-movie-reviews/train.csv\n"
          ]
        }
      ]
    },
    {
      "cell_type": "markdown",
      "source": [
        "# 1. Data Preprocessing:\n",
        "\n",
        " The process will start by cleaning and preprocessing the reviewText column in both the training and testing datasets.\n",
        "# First loading the data set"
      ],
      "metadata": {
        "id": "5vydVn6xR7ib"
      }
    },
    {
      "cell_type": "code",
      "source": [
        "import regex as re #For removing the spaces and extra symbols\n",
        "#importing Data\n",
        "train_data= pd.read_csv('/kaggle/input/sentiment-prediction-on-movie-reviews/train.csv')\n",
        "test_data = pd.read_csv('/kaggle/input/sentiment-prediction-on-movie-reviews/test.csv')\n",
        "movie= pd.read_csv('/kaggle/input/sentiment-prediction-on-movie-reviews/movies.csv')\n"
      ],
      "metadata": {
        "_kg_hide-output": true,
        "execution": {
          "iopub.status.busy": "2023-08-12T07:34:54.236068Z",
          "iopub.execute_input": "2023-08-12T07:34:54.23657Z",
          "iopub.status.idle": "2023-08-12T07:34:56.888952Z",
          "shell.execute_reply.started": "2023-08-12T07:34:54.236534Z",
          "shell.execute_reply": "2023-08-12T07:34:56.887479Z"
        },
        "trusted": true,
        "id": "z-3isODMR7ic"
      },
      "execution_count": 6,
      "outputs": []
    },
    {
      "cell_type": "markdown",
      "source": [
        "# Data Metadata"
      ],
      "metadata": {
        "id": "_kO_x2RWR7ic"
      }
    },
    {
      "cell_type": "code",
      "source": [
        "#The shape of Train and Test is as follows:\n",
        "test_data.shape, train_data.shape"
      ],
      "metadata": {
        "execution": {
          "iopub.status.busy": "2023-08-12T07:34:59.984968Z",
          "iopub.execute_input": "2023-08-12T07:34:59.985453Z",
          "iopub.status.idle": "2023-08-12T07:34:59.995907Z",
          "shell.execute_reply.started": "2023-08-12T07:34:59.985418Z",
          "shell.execute_reply": "2023-08-12T07:34:59.994406Z"
        },
        "trusted": true,
        "id": "ClIxOf5SR7ic",
        "outputId": "6a125bea-4d14-464a-89f6-32a0eff463f3",
        "colab": {
          "base_uri": "https://localhost:8080/"
        }
      },
      "execution_count": 7,
      "outputs": [
        {
          "output_type": "execute_result",
          "data": {
            "text/plain": [
              "((55315, 4), (162758, 5))"
            ]
          },
          "metadata": {},
          "execution_count": 7
        }
      ]
    },
    {
      "cell_type": "markdown",
      "source": [
        "The Test Data has following columns"
      ],
      "metadata": {
        "id": "IHr_mMukR7ic"
      }
    },
    {
      "cell_type": "code",
      "source": [
        "test_data.columns"
      ],
      "metadata": {
        "execution": {
          "iopub.status.busy": "2023-08-12T07:35:02.438643Z",
          "iopub.execute_input": "2023-08-12T07:35:02.439087Z",
          "iopub.status.idle": "2023-08-12T07:35:02.447953Z",
          "shell.execute_reply.started": "2023-08-12T07:35:02.439045Z",
          "shell.execute_reply": "2023-08-12T07:35:02.446547Z"
        },
        "trusted": true,
        "id": "qXbkEzlNR7id",
        "outputId": "f9b8c63c-8d6c-4f75-c666-0115cd64e819",
        "colab": {
          "base_uri": "https://localhost:8080/"
        }
      },
      "execution_count": 8,
      "outputs": [
        {
          "output_type": "execute_result",
          "data": {
            "text/plain": [
              "Index(['movieid', 'reviewerName', 'isTopCritic', 'reviewText'], dtype='object')"
            ]
          },
          "metadata": {},
          "execution_count": 8
        }
      ]
    },
    {
      "cell_type": "markdown",
      "source": [
        "The Train Data has following columns"
      ],
      "metadata": {
        "id": "D4GJpx35R7id"
      }
    },
    {
      "cell_type": "code",
      "source": [
        " train_data.columns"
      ],
      "metadata": {
        "execution": {
          "iopub.status.busy": "2023-08-12T07:35:04.661858Z",
          "iopub.execute_input": "2023-08-12T07:35:04.662252Z",
          "iopub.status.idle": "2023-08-12T07:35:04.672271Z",
          "shell.execute_reply.started": "2023-08-12T07:35:04.662223Z",
          "shell.execute_reply": "2023-08-12T07:35:04.670256Z"
        },
        "trusted": true,
        "id": "sj2JE0F9R7id",
        "outputId": "0e310af1-adb1-45cf-ed21-cb900a5e9196",
        "colab": {
          "base_uri": "https://localhost:8080/"
        }
      },
      "execution_count": 9,
      "outputs": [
        {
          "output_type": "execute_result",
          "data": {
            "text/plain": [
              "Index(['movieid', 'reviewerName', 'isFrequentReviewer', 'reviewText',\n",
              "       'sentiment'],\n",
              "      dtype='object')"
            ]
          },
          "metadata": {},
          "execution_count": 9
        }
      ]
    },
    {
      "cell_type": "code",
      "source": [
        "#Descriptive statistics\n",
        "train_descriptive_stats = train_data[['movieid', 'isFrequentReviewer']].describe()\n",
        "test_descriptive_stats = test_data[['movieid']].describe()\n",
        "\n",
        "print(\"Training Data Descriptive Statistics:\")\n",
        "print(train_descriptive_stats)\n",
        "\n",
        "print(\"\\nTest Data Descriptive Statistics:\")\n",
        "print(test_descriptive_stats)\n"
      ],
      "metadata": {
        "execution": {
          "iopub.status.busy": "2023-08-12T07:35:06.470172Z",
          "iopub.execute_input": "2023-08-12T07:35:06.471406Z",
          "iopub.status.idle": "2023-08-12T07:35:06.622075Z",
          "shell.execute_reply.started": "2023-08-12T07:35:06.471349Z",
          "shell.execute_reply": "2023-08-12T07:35:06.620368Z"
        },
        "trusted": true,
        "id": "pw--aQFTR7id",
        "outputId": "ee5fa818-20f4-449d-daf7-9b94d5df4c70",
        "colab": {
          "base_uri": "https://localhost:8080/"
        }
      },
      "execution_count": 10,
      "outputs": [
        {
          "output_type": "stream",
          "name": "stdout",
          "text": [
            "Training Data Descriptive Statistics:\n",
            "                                            movieid isFrequentReviewer\n",
            "count                                        162758             162758\n",
            "unique                                        16812                  2\n",
            "top     escape_the_terminator_tyler_durden_astonish              False\n",
            "freq                                            708             113189\n",
            "\n",
            "Test Data Descriptive Statistics:\n",
            "                                            movieid\n",
            "count                                         55315\n",
            "unique                                        16786\n",
            "top     escape_the_terminator_tyler_durden_astonish\n",
            "freq                                            230\n"
          ]
        }
      ]
    },
    {
      "cell_type": "markdown",
      "source": [
        "# Data Visualisation"
      ],
      "metadata": {
        "id": "XicOP8qPR7id"
      }
    },
    {
      "cell_type": "code",
      "source": [
        "#Plotting graphs for visualisations\n",
        "import seaborn as sns\n",
        "import matplotlib.pyplot as plt\n",
        "\n",
        "plt.figure(figsize=(10, 6))\n",
        "\n",
        "# Counting plot of sentiment in training data\n",
        "plt.subplot(2, 1, 1)\n",
        "sns.countplot(x='sentiment', data=train_data)\n",
        "plt.title('Sentiment Distribution in Training Data')\n",
        "\n",
        "# Count plot of isTopCritic in test data\n",
        "plt.subplot(2, 1, 2)\n",
        "sns.countplot(x='isTopCritic', data=test_data)\n",
        "plt.title('isTopCritic Distribution in Test Data')\n",
        "\n",
        "plt.tight_layout()\n",
        "plt.show()\n",
        "\n"
      ],
      "metadata": {
        "execution": {
          "iopub.status.busy": "2023-08-12T07:36:41.18153Z",
          "iopub.execute_input": "2023-08-12T07:36:41.182054Z",
          "iopub.status.idle": "2023-08-12T07:36:41.963902Z",
          "shell.execute_reply.started": "2023-08-12T07:36:41.182021Z",
          "shell.execute_reply": "2023-08-12T07:36:41.962117Z"
        },
        "trusted": true,
        "id": "VSnVQSkiR7id",
        "outputId": "d6f7eab4-5817-4d60-f42e-70a7b8ebe23d",
        "colab": {
          "base_uri": "https://localhost:8080/",
          "height": 607
        }
      },
      "execution_count": 11,
      "outputs": [
        {
          "output_type": "display_data",
          "data": {
            "text/plain": [
              "<Figure size 1000x600 with 2 Axes>"
            ],
            "image/png": "[encoded data removed]"
          },
          "metadata": {}
        }
      ]
    },
    {
      "cell_type": "markdown",
      "source": [
        "# Preparing the data"
      ],
      "metadata": {
        "id": "lNWgFO-qR7ie"
      }
    },
    {
      "cell_type": "code",
      "source": [
        "# Filling missing values in 'reviewText' column with an empty string\n",
        "test_data['reviewText'] = test_data['reviewText'].fillna('')\n",
        "train_data['reviewText'] = train_data['reviewText'].fillna('')"
      ],
      "metadata": {
        "execution": {
          "iopub.status.busy": "2023-08-12T07:37:44.036592Z",
          "iopub.execute_input": "2023-08-12T07:37:44.038049Z",
          "iopub.status.idle": "2023-08-12T07:37:44.11616Z",
          "shell.execute_reply.started": "2023-08-12T07:37:44.037996Z",
          "shell.execute_reply": "2023-08-12T07:37:44.114665Z"
        },
        "trusted": true,
        "id": "Mcr-S-cVR7ie"
      },
      "execution_count": 12,
      "outputs": []
    },
    {
      "cell_type": "code",
      "source": [
        "# Now, To Remove special characters, numbers, and convert text to lowercase\n",
        "def clean_text(text):\n",
        "    text = text.lower()\n",
        "    text = re.sub(r'\\s+', ' ', text)  # To Remove extra whitespace\n",
        "    text = re.sub(r'[^\\w\\s]', '', text)  # To Remove punctuation\n",
        "    return text\n",
        "\n",
        "train_data['reviewText'] = train_data['reviewText'].apply(clean_text)\n",
        "train_data['reviewerName'] = train_data['reviewerName'].apply(clean_text)\n",
        "test_data['reviewText'] = test_data['reviewText'].apply(clean_text)\n",
        "test_data['reviewerName'] = test_data['reviewerName'].apply(clean_text)"
      ],
      "metadata": {
        "execution": {
          "iopub.status.busy": "2023-08-12T07:37:47.473886Z",
          "iopub.execute_input": "2023-08-12T07:37:47.474423Z",
          "iopub.status.idle": "2023-08-12T07:38:04.754358Z",
          "shell.execute_reply.started": "2023-08-12T07:37:47.474382Z",
          "shell.execute_reply": "2023-08-12T07:38:04.752837Z"
        },
        "trusted": true,
        "id": "lq36bnvdR7ie"
      },
      "execution_count": 13,
      "outputs": []
    },
    {
      "cell_type": "markdown",
      "source": [
        "# Converting the text data into arrays and numbers"
      ],
      "metadata": {
        "id": "H1NSjFZpR7ie"
      }
    },
    {
      "cell_type": "code",
      "source": [
        "from sklearn.feature_extraction.text import CountVectorizer\n",
        "# Combine 'reviewerName' and 'reviewText' columns for vectorization\n",
        "train_data['combined_text'] = train_data['reviewerName'] + ' ' + train_data['reviewText']\n",
        "test_data['combined_text'] = test_data['reviewerName'] + ' ' + test_data['reviewText']\n",
        "\n",
        "# Create a CountVectorizer instance\n",
        "vectorizer = CountVectorizer()\n",
        "\n",
        "# Fit and transform the combined training data\n",
        "X_train = vectorizer.fit_transform(train_data['combined_text'])\n",
        "\n",
        "# Transform the combined test data\n",
        "X_test = vectorizer.transform(test_data['combined_text'])\n",
        "\n",
        "print(\"Shape of X_train:\", X_train.shape)\n",
        "print(\"Shape of X_test:\", X_test.shape)\n"
      ],
      "metadata": {
        "execution": {
          "iopub.status.busy": "2023-08-12T07:39:39.388363Z",
          "iopub.execute_input": "2023-08-12T07:39:39.388866Z",
          "iopub.status.idle": "2023-08-12T07:39:48.451922Z",
          "shell.execute_reply.started": "2023-08-12T07:39:39.388834Z",
          "shell.execute_reply": "2023-08-12T07:39:48.450527Z"
        },
        "trusted": true,
        "id": "bhm3kUZaR7ie",
        "outputId": "13c3284d-0cd2-4d86-b33c-041ce2d769c8",
        "colab": {
          "base_uri": "https://localhost:8080/"
        }
      },
      "execution_count": 14,
      "outputs": [
        {
          "output_type": "stream",
          "name": "stdout",
          "text": [
            "Shape of X_train: (162758, 98968)\n",
            "Shape of X_test: (55315, 98968)\n"
          ]
        }
      ]
    },
    {
      "cell_type": "code",
      "source": [
        "#Converting the strings in ['sentiment'] into 1 and 0\n",
        "train_data['sentiment'] = train_data['sentiment'].apply(lambda x: 1 if x == 'POSITIVE' else 0)"
      ],
      "metadata": {
        "execution": {
          "iopub.status.busy": "2023-08-12T07:39:57.669836Z",
          "iopub.execute_input": "2023-08-12T07:39:57.670294Z",
          "iopub.status.idle": "2023-08-12T07:39:57.808485Z",
          "shell.execute_reply.started": "2023-08-12T07:39:57.670261Z",
          "shell.execute_reply": "2023-08-12T07:39:57.807258Z"
        },
        "trusted": true,
        "id": "57FRxi1TR7ie"
      },
      "execution_count": 15,
      "outputs": []
    },
    {
      "cell_type": "markdown",
      "source": [
        "# Applying different model to Training data and fitting the Test data"
      ],
      "metadata": {
        "id": "KI0Hbcm8R7ie"
      }
    },
    {
      "cell_type": "code",
      "source": [
        "#Applying Logistic Regression\n",
        "from sklearn.linear_model import LogisticRegression\n",
        "\n",
        "lr_model = LogisticRegression(\n",
        "    C = 0.3,#not less than 0.25 and higher than 1\n",
        "    max_iter = 100,#not high/less than 100\n",
        "    random_state = 42)\n",
        "lr_model.fit(X_train, train_data['sentiment'])\n",
        "#Fitting the regression model\n",
        "lr_predictions = lr_model.predict(X_test)\n"
      ],
      "metadata": {
        "_kg_hide-input": true,
        "execution": {
          "iopub.status.busy": "2023-08-12T07:40:00.69458Z",
          "iopub.execute_input": "2023-08-12T07:40:00.695114Z",
          "iopub.status.idle": "2023-08-12T07:40:15.178459Z",
          "shell.execute_reply.started": "2023-08-12T07:40:00.695074Z",
          "shell.execute_reply": "2023-08-12T07:40:15.176631Z"
        },
        "trusted": true,
        "id": "ncc9P9xTR7ie",
        "outputId": "a63d506b-65e8-4b13-ff7b-0f09c457c735",
        "colab": {
          "base_uri": "https://localhost:8080/"
        }
      },
      "execution_count": 16,
      "outputs": [
        {
          "output_type": "stream",
          "name": "stderr",
          "text": [
            "/usr/local/lib/python3.10/dist-packages/sklearn/linear_model/_logistic.py:458: ConvergenceWarning: lbfgs failed to converge (status=1):\n",
            "STOP: TOTAL NO. of ITERATIONS REACHED LIMIT.\n",
            "\n",
            "Increase the number of iterations (max_iter) or scale the data as shown in:\n",
            "    https://scikit-learn.org/stable/modules/preprocessing.html\n",
            "Please also refer to the documentation for alternative solver options:\n",
            "    https://scikit-learn.org/stable/modules/linear_model.html#logistic-regression\n",
            "  n_iter_i = _check_optimize_result(\n"
          ]
        }
      ]
    },
    {
      "cell_type": "code",
      "source": [
        "#Applying XGBClassifier on the data\n",
        "import xgboost as xgb\n",
        "\n",
        "xgb_model = xgb.XGBClassifier(\n",
        "    max_depth=6,\n",
        "    min_child_weight=1,\n",
        "    gamma=0.05,\n",
        "    subsample=0.8,\n",
        "    colsample_bytree=1,\n",
        "    learning_rate=0.3,\n",
        "    n_estimators=400,\n",
        "    random_state=42)\n",
        "xgb_model.fit(X_train, train_data['sentiment'])\n",
        "xgb_predictions = xgb_model.predict(X_test)\n"
      ],
      "metadata": {
        "execution": {
          "iopub.status.busy": "2023-08-12T07:40:18.718814Z",
          "iopub.execute_input": "2023-08-12T07:40:18.719323Z",
          "iopub.status.idle": "2023-08-12T07:41:57.357684Z",
          "shell.execute_reply.started": "2023-08-12T07:40:18.719276Z",
          "shell.execute_reply": "2023-08-12T07:41:57.356651Z"
        },
        "trusted": true,
        "id": "19cAVwssR7ie"
      },
      "execution_count": 17,
      "outputs": []
    },
    {
      "cell_type": "code",
      "source": [
        "#Applying GradientBoostingClassifier\n",
        "from sklearn.ensemble import GradientBoostingClassifier\n",
        "\n",
        "gb_model = GradientBoostingClassifier(\n",
        "    n_estimators=100,     # Number of boosting stages to be run\n",
        "    max_depth=3,\n",
        "    learning_rate=0.1,\n",
        "    random_state=42\n",
        ")\n",
        "gb_model.fit(X_train, train_data['sentiment'])\n",
        "gb_predictions = gb_model.predict(X_test)\n"
      ],
      "metadata": {
        "execution": {
          "iopub.status.busy": "2023-08-12T07:43:02.862703Z",
          "iopub.execute_input": "2023-08-12T07:43:02.863225Z",
          "iopub.status.idle": "2023-08-12T07:45:57.745874Z",
          "shell.execute_reply.started": "2023-08-12T07:43:02.863188Z",
          "shell.execute_reply": "2023-08-12T07:45:57.744523Z"
        },
        "trusted": true,
        "id": "XFVJnTITR7ie"
      },
      "execution_count": 18,
      "outputs": []
    },
    {
      "cell_type": "code",
      "source": [
        "#Applying Multinomial Naive bayes on the data\n",
        "from sklearn.naive_bayes import MultinomialNB\n",
        "\n",
        "nb_model = MultinomialNB()\n",
        "nb_model.fit(X_train, train_data['sentiment'])\n",
        "nb_predictions = nb_model.predict(X_test)\n"
      ],
      "metadata": {
        "execution": {
          "iopub.status.busy": "2023-08-12T07:45:57.843819Z",
          "iopub.execute_input": "2023-08-12T07:45:57.844309Z",
          "iopub.status.idle": "2023-08-12T07:45:57.929583Z",
          "shell.execute_reply.started": "2023-08-12T07:45:57.844266Z",
          "shell.execute_reply": "2023-08-12T07:45:57.927876Z"
        },
        "trusted": true,
        "id": "pXbtJX3KR7ie"
      },
      "execution_count": 19,
      "outputs": []
    },
    {
      "cell_type": "markdown",
      "source": [
        "# Compiling the results into a Dataframe"
      ],
      "metadata": {
        "id": "9fQ0F9HsR7ie"
      }
    },
    {
      "cell_type": "code",
      "source": [
        "#Creating a result dataframe\n",
        "results_df = pd.DataFrame({\n",
        "    'id': test_data['movieid'],\n",
        "    'sentiment_lr': lr_predictions,\n",
        "    'sentiment_xgb': xgb_predictions,\n",
        "    'sentiment_gb': gb_predictions,\n",
        "    'sentiment_nb': nb_predictions\n",
        "})"
      ],
      "metadata": {
        "execution": {
          "iopub.status.busy": "2023-08-12T08:00:09.638077Z",
          "iopub.execute_input": "2023-08-12T08:00:09.639194Z",
          "iopub.status.idle": "2023-08-12T08:00:09.650234Z",
          "shell.execute_reply.started": "2023-08-12T08:00:09.639132Z",
          "shell.execute_reply": "2023-08-12T08:00:09.648366Z"
        },
        "trusted": true,
        "id": "LnmPBwkFR7ie"
      },
      "execution_count": 20,
      "outputs": []
    },
    {
      "cell_type": "code",
      "source": [
        "results_df.head()"
      ],
      "metadata": {
        "execution": {
          "iopub.status.busy": "2023-08-12T08:00:12.379465Z",
          "iopub.execute_input": "2023-08-12T08:00:12.379931Z",
          "iopub.status.idle": "2023-08-12T08:00:12.413998Z",
          "shell.execute_reply.started": "2023-08-12T08:00:12.379892Z",
          "shell.execute_reply": "2023-08-12T08:00:12.412173Z"
        },
        "trusted": true,
        "id": "Mm2XiW-6R7if",
        "outputId": "016559b6-d190-4c75-9875-7f96bd6591d8",
        "colab": {
          "base_uri": "https://localhost:8080/",
          "height": 206
        }
      },
      "execution_count": 21,
      "outputs": [
        {
          "output_type": "execute_result",
          "data": {
            "text/plain": [
              "                                    id  sentiment_lr  sentiment_xgb  \\\n",
              "0            legend_marty_mcfly_oracle             1              1   \n",
              "1  terminator_katniss_everdeen_glimmer             1              1   \n",
              "2          james_bond_labyrinth_gollum             1              1   \n",
              "3            v_quest_han_solo_wondrous             1              1   \n",
              "4        enigma_hulk_surreal_starlight             1              1   \n",
              "\n",
              "   sentiment_gb  sentiment_nb  \n",
              "0             1             1  \n",
              "1             1             1  \n",
              "2             1             1  \n",
              "3             1             1  \n",
              "4             1             1  "
            ],
            "text/html": [
              "\n",
              "  <div id=\"df-3aca4620-be77-4537-b436-bc24412f719c\" class=\"colab-df-container\">\n",
              "    <div>\n",
              "<style scoped>\n",
              "    .dataframe tbody tr th:only-of-type {\n",
              "        vertical-align: middle;\n",
              "    }\n",
              "\n",
              "    .dataframe tbody tr th {\n",
              "        vertical-align: top;\n",
              "    }\n",
              "\n",
              "    .dataframe thead th {\n",
              "        text-align: right;\n",
              "    }\n",
              "</style>\n",
              "<table border=\"1\" class=\"dataframe\">\n",
              "  <thead>\n",
              "    <tr style=\"text-align: right;\">\n",
              "      <th></th>\n",
              "      <th>id</th>\n",
              "      <th>sentiment_lr</th>\n",
              "      <th>sentiment_xgb</th>\n",
              "      <th>sentiment_gb</th>\n",
              "      <th>sentiment_nb</th>\n",
              "    </tr>\n",
              "  </thead>\n",
              "  <tbody>\n",
              "    <tr>\n",
              "      <th>0</th>\n",
              "      <td>legend_marty_mcfly_oracle</td>\n",
              "      <td>1</td>\n",
              "      <td>1</td>\n",
              "      <td>1</td>\n",
              "      <td>1</td>\n",
              "    </tr>\n",
              "    <tr>\n",
              "      <th>1</th>\n",
              "      <td>terminator_katniss_everdeen_glimmer</td>\n",
              "      <td>1</td>\n",
              "      <td>1</td>\n",
              "      <td>1</td>\n",
              "      <td>1</td>\n",
              "    </tr>\n",
              "    <tr>\n",
              "      <th>2</th>\n",
              "      <td>james_bond_labyrinth_gollum</td>\n",
              "      <td>1</td>\n",
              "      <td>1</td>\n",
              "      <td>1</td>\n",
              "      <td>1</td>\n",
              "    </tr>\n",
              "    <tr>\n",
              "      <th>3</th>\n",
              "      <td>v_quest_han_solo_wondrous</td>\n",
              "      <td>1</td>\n",
              "      <td>1</td>\n",
              "      <td>1</td>\n",
              "      <td>1</td>\n",
              "    </tr>\n",
              "    <tr>\n",
              "      <th>4</th>\n",
              "      <td>enigma_hulk_surreal_starlight</td>\n",
              "      <td>1</td>\n",
              "      <td>1</td>\n",
              "      <td>1</td>\n",
              "      <td>1</td>\n",
              "    </tr>\n",
              "  </tbody>\n",
              "</table>\n",
              "</div>\n",
              "    <div class=\"colab-df-buttons\">\n",
              "\n",
              "  <div class=\"colab-df-container\">\n",
              "    <button class=\"colab-df-convert\" onclick=\"convertToInteractive('df-3aca4620-be77-4537-b436-bc24412f719c')\"\n",
              "            title=\"Convert this dataframe to an interactive table.\"\n",
              "            style=\"display:none;\">\n",
              "\n",
              "  <svg xmlns=\"http://www.w3.org/2000/svg\" height=\"24px\" viewBox=\"0 -960 960 960\">\n",
              "    <path d=\"M120-120v-720h720v720H120Zm60-500h600v-160H180v160Zm220 220h160v-160H400v160Zm0 220h160v-160H400v160ZM180-400h160v-160H180v160Zm440 0h160v-160H620v160ZM180-180h160v-160H180v160Zm440 0h160v-160H620v160Z\"/>\n",
              "  </svg>\n",
              "    </button>\n",
              "\n",
              "  <style>\n",
              "    .colab-df-container {\n",
              "      display:flex;\n",
              "      gap: 12px;\n",
              "    }\n",
              "\n",
              "    .colab-df-convert {\n",
              "      background-color: #E8F0FE;\n",
              "      border: none;\n",
              "      border-radius: 50%;\n",
              "      cursor: pointer;\n",
              "      display: none;\n",
              "      fill: #1967D2;\n",
              "      height: 32px;\n",
              "      padding: 0 0 0 0;\n",
              "      width: 32px;\n",
              "    }\n",
              "\n",
              "    .colab-df-convert:hover {\n",
              "      background-color: #E2EBFA;\n",
              "      box-shadow: 0px 1px 2px rgba(60, 64, 67, 0.3), 0px 1px 3px 1px rgba(60, 64, 67, 0.15);\n",
              "      fill: #174EA6;\n",
              "    }\n",
              "\n",
              "    .colab-df-buttons div {\n",
              "      margin-bottom: 4px;\n",
              "    }\n",
              "\n",
              "    [theme=dark] .colab-df-convert {\n",
              "      background-color: #3B4455;\n",
              "      fill: #D2E3FC;\n",
              "    }\n",
              "\n",
              "    [theme=dark] .colab-df-convert:hover {\n",
              "      background-color: #434B5C;\n",
              "      box-shadow: 0px 1px 3px 1px rgba(0, 0, 0, 0.15);\n",
              "      filter: drop-shadow(0px 1px 2px rgba(0, 0, 0, 0.3));\n",
              "      fill: #FFFFFF;\n",
              "    }\n",
              "  </style>\n",
              "\n",
              "    <script>\n",
              "      const buttonEl =\n",
              "        document.querySelector('#df-3aca4620-be77-4537-b436-bc24412f719c button.colab-df-convert');\n",
              "      buttonEl.style.display =\n",
              "        google.colab.kernel.accessAllowed ? 'block' : 'none';\n",
              "\n",
              "      async function convertToInteractive(key) {\n",
              "        const element = document.querySelector('#df-3aca4620-be77-4537-b436-bc24412f719c');\n",
              "        const dataTable =\n",
              "          await google.colab.kernel.invokeFunction('convertToInteractive',\n",
              "                                                    [key], {});\n",
              "        if (!dataTable) return;\n",
              "\n",
              "        const docLinkHtml = 'Like what you see? Visit the ' +\n",
              "          '<a target=\"_blank\" href=https://colab.research.google.com/notebooks/data_table.ipynb>data table notebook</a>'\n",
              "          + ' to learn more about interactive tables.';\n",
              "        element.innerHTML = '';\n",
              "        dataTable['output_type'] = 'display_data';\n",
              "        await google.colab.output.renderOutput(dataTable, element);\n",
              "        const docLink = document.createElement('div');\n",
              "        docLink.innerHTML = docLinkHtml;\n",
              "        element.appendChild(docLink);\n",
              "      }\n",
              "    </script>\n",
              "  </div>\n",
              "\n",
              "\n",
              "<div id=\"df-7df48079-b343-4223-b5a6-a01eabd73839\">\n",
              "  <button class=\"colab-df-quickchart\" onclick=\"quickchart('df-7df48079-b343-4223-b5a6-a01eabd73839')\"\n",
              "            title=\"Suggest charts\"\n",
              "            style=\"display:none;\">\n",
              "\n",
              "<svg xmlns=\"http://www.w3.org/2000/svg\" height=\"24px\"viewBox=\"0 0 24 24\"\n",
              "     width=\"24px\">\n",
              "    <g>\n",
              "        <path d=\"M19 3H5c-1.1 0-2 .9-2 2v14c0 1.1.9 2 2 2h14c1.1 0 2-.9 2-2V5c0-1.1-.9-2-2-2zM9 17H7v-7h2v7zm4 0h-2V7h2v10zm4 0h-2v-4h2v4z\"/>\n",
              "    </g>\n",
              "</svg>\n",
              "  </button>\n",
              "\n",
              "<style>\n",
              "  .colab-df-quickchart {\n",
              "      --bg-color: #E8F0FE;\n",
              "      --fill-color: #1967D2;\n",
              "      --hover-bg-color: #E2EBFA;\n",
              "      --hover-fill-color: #174EA6;\n",
              "      --disabled-fill-color: #AAA;\n",
              "      --disabled-bg-color: #DDD;\n",
              "  }\n",
              "\n",
              "  [theme=dark] .colab-df-quickchart {\n",
              "      --bg-color: #3B4455;\n",
              "      --fill-color: #D2E3FC;\n",
              "      --hover-bg-color: #434B5C;\n",
              "      --hover-fill-color: #FFFFFF;\n",
              "      --disabled-bg-color: #3B4455;\n",
              "      --disabled-fill-color: #666;\n",
              "  }\n",
              "\n",
              "  .colab-df-quickchart {\n",
              "    background-color: var(--bg-color);\n",
              "    border: none;\n",
              "    border-radius: 50%;\n",
              "    cursor: pointer;\n",
              "    display: none;\n",
              "    fill: var(--fill-color);\n",
              "    height: 32px;\n",
              "    padding: 0;\n",
              "    width: 32px;\n",
              "  }\n",
              "\n",
              "  .colab-df-quickchart:hover {\n",
              "    background-color: var(--hover-bg-color);\n",
              "    box-shadow: 0 1px 2px rgba(60, 64, 67, 0.3), 0 1px 3px 1px rgba(60, 64, 67, 0.15);\n",
              "    fill: var(--button-hover-fill-color);\n",
              "  }\n",
              "\n",
              "  .colab-df-quickchart-complete:disabled,\n",
              "  .colab-df-quickchart-complete:disabled:hover {\n",
              "    background-color: var(--disabled-bg-color);\n",
              "    fill: var(--disabled-fill-color);\n",
              "    box-shadow: none;\n",
              "  }\n",
              "\n",
              "  .colab-df-spinner {\n",
              "    border: 2px solid var(--fill-color);\n",
              "    border-color: transparent;\n",
              "    border-bottom-color: var(--fill-color);\n",
              "    animation:\n",
              "      spin 1s steps(1) infinite;\n",
              "  }\n",
              "\n",
              "  @keyframes spin {\n",
              "    0% {\n",
              "      border-color: transparent;\n",
              "      border-bottom-color: var(--fill-color);\n",
              "      border-left-color: var(--fill-color);\n",
              "    }\n",
              "    20% {\n",
              "      border-color: transparent;\n",
              "      border-left-color: var(--fill-color);\n",
              "      border-top-color: var(--fill-color);\n",
              "    }\n",
              "    30% {\n",
              "      border-color: transparent;\n",
              "      border-left-color: var(--fill-color);\n",
              "      border-top-color: var(--fill-color);\n",
              "      border-right-color: var(--fill-color);\n",
              "    }\n",
              "    40% {\n",
              "      border-color: transparent;\n",
              "      border-right-color: var(--fill-color);\n",
              "      border-top-color: var(--fill-color);\n",
              "    }\n",
              "    60% {\n",
              "      border-color: transparent;\n",
              "      border-right-color: var(--fill-color);\n",
              "    }\n",
              "    80% {\n",
              "      border-color: transparent;\n",
              "      border-right-color: var(--fill-color);\n",
              "      border-bottom-color: var(--fill-color);\n",
              "    }\n",
              "    90% {\n",
              "      border-color: transparent;\n",
              "      border-bottom-color: var(--fill-color);\n",
              "    }\n",
              "  }\n",
              "</style>\n",
              "\n",
              "  <script>\n",
              "    async function quickchart(key) {\n",
              "      const quickchartButtonEl =\n",
              "        document.querySelector('#' + key + ' button');\n",
              "      quickchartButtonEl.disabled = true;  // To prevent multiple clicks.\n",
              "      quickchartButtonEl.classList.add('colab-df-spinner');\n",
              "      try {\n",
              "        const charts = await google.colab.kernel.invokeFunction(\n",
              "            'suggestCharts', [key], {});\n",
              "      } catch (error) {\n",
              "        console.error('Error during call to suggestCharts:', error);\n",
              "      }\n",
              "      quickchartButtonEl.classList.remove('colab-df-spinner');\n",
              "      quickchartButtonEl.classList.add('colab-df-quickchart-complete');\n",
              "    }\n",
              "    (() => {\n",
              "      let quickchartButtonEl =\n",
              "        document.querySelector('#df-7df48079-b343-4223-b5a6-a01eabd73839 button');\n",
              "      quickchartButtonEl.style.display =\n",
              "        google.colab.kernel.accessAllowed ? 'block' : 'none';\n",
              "    })();\n",
              "  </script>\n",
              "</div>\n",
              "    </div>\n",
              "  </div>\n"
            ],
            "application/vnd.google.colaboratory.intrinsic+json": {
              "type": "dataframe",
              "variable_name": "results_df",
              "summary": "{\n  \"name\": \"results_df\",\n  \"rows\": 55315,\n  \"fields\": [\n    {\n      \"column\": \"id\",\n      \"properties\": {\n        \"dtype\": \"category\",\n        \"num_unique_values\": 16786,\n        \"samples\": [\n          \"katniss_everdeen_jon_snow_norman_bates\",\n          \"michael_corleone_hermione_granger_treasure_james_bond\",\n          \"scarlett_o'hara_terminator_hulk\"\n        ],\n        \"semantic_type\": \"\",\n        \"description\": \"\"\n      }\n    },\n    {\n      \"column\": \"sentiment_lr\",\n      \"properties\": {\n        \"dtype\": \"number\",\n        \"std\": 0,\n        \"min\": 0,\n        \"max\": 1,\n        \"num_unique_values\": 2,\n        \"samples\": [\n          0,\n          1\n        ],\n        \"semantic_type\": \"\",\n        \"description\": \"\"\n      }\n    },\n    {\n      \"column\": \"sentiment_xgb\",\n      \"properties\": {\n        \"dtype\": \"number\",\n        \"std\": 0,\n        \"min\": 0,\n        \"max\": 1,\n        \"num_unique_values\": 2,\n        \"samples\": [\n          0,\n          1\n        ],\n        \"semantic_type\": \"\",\n        \"description\": \"\"\n      }\n    },\n    {\n      \"column\": \"sentiment_gb\",\n      \"properties\": {\n        \"dtype\": \"number\",\n        \"std\": 0,\n        \"min\": 0,\n        \"max\": 1,\n        \"num_unique_values\": 2,\n        \"samples\": [\n          0,\n          1\n        ],\n        \"semantic_type\": \"\",\n        \"description\": \"\"\n      }\n    },\n    {\n      \"column\": \"sentiment_nb\",\n      \"properties\": {\n        \"dtype\": \"number\",\n        \"std\": 0,\n        \"min\": 0,\n        \"max\": 1,\n        \"num_unique_values\": 2,\n        \"samples\": [\n          0,\n          1\n        ],\n        \"semantic_type\": \"\",\n        \"description\": \"\"\n      }\n    }\n  ]\n}"
            }
          },
          "metadata": {},
          "execution_count": 21
        }
      ]
    },
    {
      "cell_type": "markdown",
      "source": [
        "# Making the final data for submission with best possible results"
      ],
      "metadata": {
        "id": "PsN-JBN4R7if"
      }
    },
    {
      "cell_type": "code",
      "source": [
        "# For each row, choose the most frequent sentiment prediction across models\n",
        "results_df['sentiment_mode'] = results_df[['sentiment_lr', 'sentiment_xgb', 'sentiment_nb','sentiment_gb']].mode(axis=1)[0]"
      ],
      "metadata": {
        "execution": {
          "iopub.status.busy": "2023-08-12T08:00:17.440786Z",
          "iopub.execute_input": "2023-08-12T08:00:17.441828Z",
          "iopub.status.idle": "2023-08-12T08:00:42.92952Z",
          "shell.execute_reply.started": "2023-08-12T08:00:17.441763Z",
          "shell.execute_reply": "2023-08-12T08:00:42.928094Z"
        },
        "trusted": true,
        "id": "Iqwet5GDR7if"
      },
      "execution_count": 22,
      "outputs": []
    },
    {
      "cell_type": "code",
      "source": [
        "# Converting sentiment values to \"POSITIVE\" and \"NEGATIVE\"\n",
        "results_df['sentiment'] = results_df['sentiment_mode'].apply(lambda x: 'POSITIVE' if x == 1 else 'NEGATIVE')\n",
        "results_df['id'] = results_df.index\n",
        "# Save the results to a CSV file\n",
        "results_df[['id', 'sentiment']].to_csv('submission.csv', index=False)\n"
      ],
      "metadata": {
        "execution": {
          "iopub.status.busy": "2023-08-08T14:59:36.593839Z",
          "iopub.execute_input": "2023-08-08T14:59:36.594459Z",
          "iopub.status.idle": "2023-08-08T14:59:36.764931Z",
          "shell.execute_reply.started": "2023-08-08T14:59:36.594426Z",
          "shell.execute_reply": "2023-08-08T14:59:36.76399Z"
        },
        "trusted": true,
        "id": "5Nz0dyBRR7if"
      },
      "execution_count": 23,
      "outputs": []
    },
    {
      "cell_type": "markdown",
      "source": [
        "# This version has submission made by mode"
      ],
      "metadata": {
        "id": "PupKikzmR7if"
      }
    },
    {
      "cell_type": "markdown",
      "source": [
        "# For final result only Logistic Regression were taken (as even with mode same result is achieved) as it gave highest score, as it gave comparativly better score"
      ],
      "metadata": {
        "id": "hHlnWlv6R7if"
      }
    },
    {
      "cell_type": "markdown",
      "source": [
        "# Insite"
      ],
      "metadata": {
        "id": "34Veq9aMR7if"
      }
    },
    {
      "cell_type": "markdown",
      "source": [
        "After converting the Text data of provided reviews into numerical array, out of all the different model applied Logistic regression gave the highest score(on sentiment prediction)"
      ],
      "metadata": {
        "id": "VKlCH6nIR7if"
      }
    }
  ]
}